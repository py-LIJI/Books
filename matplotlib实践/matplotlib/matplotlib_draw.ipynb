{
 "cells": [
  {
   "cell_type": "markdown",
   "metadata": {},
   "source": [
    "## 第1章 图表组成元素"
   ]
  },
  {
   "cell_type": "markdown",
   "metadata": {},
   "source": [
    "### 1.1 准备数据"
   ]
  },
  {
   "cell_type": "markdown",
   "metadata": {},
   "source": [
    "### 1.2 绘图函数"
   ]
  },
  {
   "cell_type": "markdown",
   "metadata": {},
   "source": [
    "### 1.3 图表元素函数"
   ]
  },
  {
   "cell_type": "markdown",
   "metadata": {},
   "source": [
    "* 坐标轴数值显示范围"
   ]
  },
  {
   "cell_type": "markdown",
   "metadata": {},
   "source": [
    "plt.xlim(xmin, xmax)  "
   ]
  },
  {
   "cell_type": "markdown",
   "metadata": {},
   "source": [
    "plt.ylim(ymin, ymax)  "
   ]
  },
  {
   "cell_type": "markdown",
   "metadata": {},
   "source": [
    "* 坐标轴标签文本"
   ]
  },
  {
   "cell_type": "markdown",
   "metadata": {},
   "source": [
    "plt.xlabel('string')"
   ]
  },
  {
   "cell_type": "markdown",
   "metadata": {},
   "source": [
    "plt.ylabel('string')"
   ]
  },
  {
   "cell_type": "markdown",
   "metadata": {},
   "source": [
    "* 坐标轴修改"
   ]
  },
  {
   "cell_type": "markdown",
   "metadata": {},
   "source": [
    "plt.xticks(ticks)  \n",
    "plt.yticks(ticks)\n",
    "\n",
    "    ticks: 既可以修改坐标轴的刻度 也可以修改坐标轴的标签 "
   ]
  },
  {
   "cell_type": "markdown",
   "metadata": {},
   "source": [
    "* 标题"
   ]
  },
  {
   "cell_type": "markdown",
   "metadata": {},
   "source": [
    "plt.title('string')"
   ]
  },
  {
   "cell_type": "markdown",
   "metadata": {},
   "source": [
    "* 标签图例"
   ]
  },
  {
   "cell_type": "markdown",
   "metadata": {},
   "source": [
    "plt.legend(loc=\"lower left\")  \n",
    "\n",
    "    loc: 图例在图中的地理位置  "
   ]
  },
  {
   "cell_type": "markdown",
   "metadata": {},
   "source": [
    "* 绘制网格线"
   ]
  },
  {
   "cell_type": "markdown",
   "metadata": {},
   "source": [
    "plt.grid(linestyle=\":\", color=\"r\") \n",
    "\n",
    "    linestyle:网格线的线条风格  \n",
    "    color：线条颜色  "
   ]
  },
  {
   "cell_type": "markdown",
   "metadata": {},
   "source": [
    "* 指向型注释文本"
   ]
  },
  {
   "cell_type": "markdown",
   "metadata": {},
   "source": [
    "plt.annotate('string', xy=(data, data), xytext=(data, data), weight=\"bold\", color=\"r\", arrowprops=dict(arrowstyle=\"->\", connectionstyle=\"arc3\", color=\"r\"))  \n",
    "\n",
    "    string: 注释文本  \n",
    "    xy: 注释点坐标  \n",
    "    xytext: 注释内容坐标  \n",
    "    weight: 注释文本字体粗细  \n",
    "    color: 注释文本字体颜色  \n",
    "    arrowprops: 注释内容箭头属性"
   ]
  },
  {
   "cell_type": "markdown",
   "metadata": {},
   "source": [
    "* 注释文本（无指向性）"
   ]
  },
  {
   "cell_type": "markdown",
   "metadata": {},
   "source": [
    "plt.text(x, y, 'string', weight=\"bold\", color=\"r\")  \n",
    "\n",
    "    x: 位置x轴  \n",
    "    y: 位置y轴  \n",
    "    string: 注释文本内容  \n",
    "    weight: 注释文本字体粗细  \n",
    "    color: 注释文本字体颜色  "
   ]
  },
  {
   "cell_type": "markdown",
   "metadata": {},
   "source": [
    "* 水平参考线  "
   ]
  },
  {
   "cell_type": "markdown",
   "metadata": {},
   "source": [
    "plt.axhline(y=data, c=\"r\", ls=\"--\", lw=2)  \n",
    "\n",
    "    y: 水平参考线的出发点  \n",
    "    c: 线条颜色  \n",
    "    ls: 线条风格  \n",
    "    lw: 线条宽度  "
   ]
  },
  {
   "cell_type": "markdown",
   "metadata": {},
   "source": [
    "* 垂直参考线"
   ]
  },
  {
   "cell_type": "markdown",
   "metadata": {},
   "source": [
    "plt.axvline(x=data, c=\"r\", ls=\"--\", lw=2)"
   ]
  },
  {
   "cell_type": "markdown",
   "metadata": {},
   "source": [
    "* 水平参考区域"
   ]
  },
  {
   "cell_type": "markdown",
   "metadata": {},
   "source": [
    "plt.axhspan(ymin=data, ymax=data, facecolor=\"r\", alpha=0.3)  \n",
    "\n",
    "    ymin: 参考区域的起始位置  \n",
    "    ymax: 参考区域的终止位置  \n",
    "    facecolor: 参考区域的填充颜色  \n",
    "    alpha: 填充颜色的透明度  "
   ]
  },
  {
   "cell_type": "markdown",
   "metadata": {},
   "source": [
    "* 垂直参考区域"
   ]
  },
  {
   "cell_type": "markdown",
   "metadata": {},
   "source": [
    "plt.axvspan(xmin=data, xmax=data, facecolor=\"r\", alpha=0.3)"
   ]
  },
  {
   "cell_type": "code",
   "execution_count": 21,
   "metadata": {},
   "outputs": [
    {
     "data": {
      "text/plain": [
       "<matplotlib.patches.Polygon at 0x165c5b10730>"
      ]
     },
     "execution_count": 21,
     "metadata": {},
     "output_type": "execute_result"
    },
    {
     "data": {
      "image/png": "[encoded data removed]",
      "text/plain": [
       "<Figure size 432x288 with 1 Axes>"
      ]
     },
     "metadata": {
      "needs_background": "light"
     },
     "output_type": "display_data"
    }
   ],
   "source": [
    "import matplotlib.pyplot as plt\n",
    "import numpy as np\n",
    "\n",
    "# 准备数据  \n",
    "x=np.linspace(0.05,10,1000)\n",
    "y=np.cos(x)\n",
    "\n",
    "# 绘图函数\n",
    "plt.plot(x, y, ls=\":\", label='plot figure')\n",
    "\n",
    "# 坐标轴数值显示范围\n",
    "plt.xlim(0,10)\n",
    "plt.ylim(-1,1)\n",
    "\n",
    "# 坐标轴标签\n",
    "plt.xlabel('x_dim')\n",
    "plt.ylabel('y_dim')\n",
    "\n",
    "# 图形标题\n",
    "plt.title('draw show')\n",
    "\n",
    "# 标签图例\n",
    "plt.legend(loc='upper right')\n",
    "\n",
    "# 绘制网格线\n",
    "plt.grid(linestyle=\":\", color=\"b\")\n",
    "\n",
    "# 指向型注释文本\n",
    "plt.annotate('max', xy=(0, 1), xytext=(np.pi/2+0.15, 0.75), weight=\"bold\", color=\"r\", arrowprops=dict(arrowstyle=\"->\", connectionstyle=\"arc3\", color=\"r\"))\n",
    "\n",
    "# 注释文本（非指向型）\n",
    "plt.text(2, -0.5, 'y=cos(x)', weight=\"bold\", color=\"r\")\n",
    "\n",
    "# 水平与垂直参考线\n",
    "plt.axhline(y=0, c=\"r\", ls=\"-\", lw=2)\n",
    "plt.axvline(x=5, c=\"r\", ls=\"-\", lw=2)\n",
    "\n",
    "# 水平与垂直参考区域\n",
    "plt.axhspan(ymin=-0.25, ymax=0.25, facecolor=\"y\", alpha=0.3)\n",
    "plt.axvspan(xmin=4, xmax=6, facecolor=\"y\", alpha=0.3)"
   ]
  },
  {
   "cell_type": "markdown",
   "metadata": {},
   "source": [
    "## 第2章 简单的统计图形"
   ]
  },
  {
   "cell_type": "markdown",
   "metadata": {},
   "source": [
    "### 2.1 折线图 plot()"
   ]
  },
  {
   "cell_type": "markdown",
   "metadata": {},
   "source": [
    "plt.plot(x, y, marker='o', markersize=6, linestyle=':', linewidth=2, color='b', label='string')  \n",
    "\n",
    "    x: x轴上的值\n",
    "    y: y轴上的值\n",
    "    marker: 点标记\n",
    "    markersize: 点大小\n",
    "    linestyle: 线型\n",
    "    linewidth: 线宽\n",
    "    color: 线的颜色\n",
    "    label: 图例"
   ]
  },
  {
   "cell_type": "markdown",
   "metadata": {},
   "source": [
    "### 2.2 散点图 scatter()"
   ]
  },
  {
   "cell_type": "markdown",
   "metadata": {},
   "source": [
    "plt.scatter(x, y, marker='o', markersize=6, color='b')  \n",
    "    \n",
    "    x: x轴上的数据\n",
    "    y: y轴上的数据"
   ]
  },
  {
   "cell_type": "markdown",
   "metadata": {},
   "source": [
    "### 2.3 柱状图 bar()"
   ]
  },
  {
   "cell_type": "markdown",
   "metadata": {},
   "source": [
    "plt.bar(x, high, align='center', tick_label=['s1', 's2' ...], color='b', hatch='/')  \n",
    "\n",
    "    x: x轴定性数据位置\n",
    "    high: 柱状图高\n",
    "    align: 柱状图x轴标签位置\n",
    "    tick_label: 柱状图x轴标签\n",
    "    color: 柱状图颜色\n",
    "    hatch: 柱状图图案填充"
   ]
  },
  {
   "cell_type": "markdown",
   "metadata": {},
   "source": [
    "### 2.4 条形图 barh()"
   ]
  },
  {
   "cell_type": "markdown",
   "metadata": {},
   "source": [
    "plt.barh(y, long, align='center', tich_label=['s1', 's2' ...], color='b', hatch='/')  \n",
    "\n",
    "    y: y轴定性数据位置\n",
    "    long: 条形图长"
   ]
  },
  {
   "cell_type": "markdown",
   "metadata": {},
   "source": [
    "### 2.5 直方图 hist()"
   ]
  },
  {
   "cell_type": "markdown",
   "metadata": {},
   "source": [
    "plt.hist(x, bins, density=True, color='b', alpha=0.5)  \n",
    "\n",
    "    x: 直方图的对应数据\n",
    "    bins: 直方图的条数"
   ]
  },
  {
   "cell_type": "markdown",
   "metadata": {},
   "source": [
    "### 2.6 饼形图 pie()"
   ]
  },
  {
   "cell_type": "markdown",
   "metadata": {},
   "source": [
    "plt.pie(size, labels, autopct='%1.1f%%', explode, shadow=True, startangle=90)  \n",
    "\n",
    "    size: 饼状图占比大小 列表数据\n",
    "    labels: 饼状图每部分标签\n",
    "    autopct: 在每部分图中用百分比的形式显示数据\n",
    "    explode: 每部分距离圆心的距离 用于突出显示某一部分\n",
    "    shadow: 渲染阴影\n",
    "    startangle: 开始图形部分距离与x轴的角度"
   ]
  },
  {
   "cell_type": "markdown",
   "metadata": {},
   "source": [
    "### 2.7 极线图 polar()"
   ]
  },
  {
   "cell_type": "markdown",
   "metadata": {},
   "source": [
    "plt.polar(theta, r, marker='*', markerfacecolor='b', markersize=2, linewidth=2, color='y')  \n",
    "\n",
    "    theta: 每个标记所在射线与极径的夹角\n",
    "    r: 每个标记到远点的距离"
   ]
  },
  {
   "cell_type": "markdown",
   "metadata": {},
   "source": [
    "### 2.8 气泡图 scatter()"
   ]
  },
  {
   "cell_type": "markdown",
   "metadata": {},
   "source": [
    "plt.scatter(x, y, size, marker='o', color=['y', 'b', ...])  \n",
    "\n",
    "    x: x轴位置坐标\n",
    "    y: y轴位置坐标\n",
    "    size: 散点标记气泡的大小\n",
    "    color: 散点颜色 可以用随机数表示颜色"
   ]
  },
  {
   "cell_type": "markdown",
   "metadata": {},
   "source": [
    "### 2.9 棉棒图 stem()"
   ]
  },
  {
   "cell_type": "markdown",
   "metadata": {},
   "source": [
    "plt.stem(x, y, linefmt='-.', markerfmt='o', basefmt='-')  \n",
    "\n",
    "    x: 指定棉棒的x轴基线上的位置\n",
    "    y: 绘制棉棒的长度\n",
    "    linefmt: 棉棒的样式\n",
    "    markerfmt: 棉棒末端的样式\n",
    "    basefmt: 指定基线的样式"
   ]
  },
  {
   "cell_type": "markdown",
   "metadata": {},
   "source": [
    "### 2.10 箱线图 boxplot()"
   ]
  },
  {
   "cell_type": "markdown",
   "metadata": {},
   "source": [
    "plt.boxplot(x)  \n",
    "    \n",
    "    x: 绘制箱线图所需数据"
   ]
  },
  {
   "cell_type": "markdown",
   "metadata": {},
   "source": [
    "### 2.11 误差棒图 errorbar()"
   ]
  },
  {
   "cell_type": "markdown",
   "metadata": {},
   "source": [
    "plt.errorbar(x, y, fmt='bo', xerr=0.2, yerr=0.8)  \n",
    "\n",
    "    x: 数据点的x轴位置\n",
    "    y: 数据点的y轴位置\n",
    "    fmt: 数据点样式\n",
    "    xerr: x轴方向数据误差范围\n",
    "    yerr: y轴方向数据误差范围"
   ]
  },
  {
   "cell_type": "markdown",
   "metadata": {},
   "source": [
    "   "
   ]
  },
  {
   "cell_type": "markdown",
   "metadata": {},
   "source": [
    "## 第3章 统计图形扩充"
   ]
  },
  {
   "cell_type": "markdown",
   "metadata": {},
   "source": [
    "### 3.1 柱状图 & 条形图"
   ]
  },
  {
   "cell_type": "markdown",
   "metadata": {},
   "source": [
    "* 简单型"
   ]
  },
  {
   "cell_type": "markdown",
   "metadata": {},
   "source": [
    "plt.bar(x, high, align='center', tick_label=['s1', 's2', ...], color='b', alpha=0.5)  "
   ]
  },
  {
   "cell_type": "markdown",
   "metadata": {},
   "source": [
    "<img src=\"picture/1.png\" width = \"35%\" />"
   ]
  },
  {
   "cell_type": "markdown",
   "metadata": {},
   "source": [
    "plt.barh(x, high, align='center', tick_label=['s1', 's2', ...], color='b', alpha=0.5)  \n",
    "<img src=\"picture/2.png\" width = \"35%\" />"
   ]
  },
  {
   "cell_type": "markdown",
   "metadata": {},
   "source": [
    "* 堆积型"
   ]
  },
  {
   "cell_type": "markdown",
   "metadata": {},
   "source": [
    "plt.bar(x, y, align='center', tick_label=['s1', 's2', 's3', 's4', 's5'], color='g')  \n",
    "plt.bar(x, y1, align='center', bottom=y, color='y')\n",
    "<img src=\"picture/3.png\" width = \"35%\" />"
   ]
  },
  {
   "cell_type": "markdown",
   "metadata": {},
   "source": [
    "plt.barh(x, y, align='center', tick_label=['s1', 's2', 's3', 's4', 's5'], color='g')  \n",
    "plt.barh(x, y1, align='center', left=y, color='y')\n",
    "<img src=\"picture/4.png\" width = \"35%\" />"
   ]
  },
  {
   "cell_type": "markdown",
   "metadata": {},
   "source": [
    "* 并列型"
   ]
  },
  {
   "cell_type": "markdown",
   "metadata": {},
   "source": [
    "plt.bar(x, y, width=0.35, align='center', tick_label=['s1', 's2', 's3', 's4', 's5'], color='g')  \n",
    "plt.bar(x1, y1, width=0.35, align='center', color='y')  \n",
    "\n",
    "    x1: x+width  \n",
    "<img src=\"picture/5.png\" width = \"35%\" />"
   ]
  },
  {
   "cell_type": "markdown",
   "metadata": {},
   "source": [
    "plt.barh(x, y, height=0.35, align='center', tick_label=['s1', 's2', 's3', 's4', 's5'], color='g')  \n",
    "plt.barh(x1, y1, height=0.35, align='center', color='y')  \n",
    "\n",
    "    x1: x+height\n",
    "<img src=\"picture/6.png\" width = \"35%\" />"
   ]
  },
  {
   "cell_type": "markdown",
   "metadata": {},
   "source": [
    "* 变形-堆积折线图"
   ]
  },
  {
   "cell_type": "markdown",
   "metadata": {},
   "source": [
    "plt.stackplot(x, y, y1, y2, labels=['y', 'y1', 'y2'], colors=['g', 'y', 'c'])  \n",
    "plt.legend(loc='upper left')  \n",
    "<img src=\"picture/7.png\" width = \"35%\" />"
   ]
  },
  {
   "cell_type": "markdown",
   "metadata": {},
   "source": [
    "* 变形-阶梯图"
   ]
  },
  {
   "cell_type": "markdown",
   "metadata": {},
   "source": [
    "plt.step(x, y, color='b', where='post', linewidth=2)  \n",
    "\n",
    "    where: 'pre' x轴相邻区间取右侧值  \n",
    "          'post' x轴相邻区间取左侧值\n",
    "<img src=\"picture/8.png\" width = \"35%\" />"
   ]
  },
  {
   "cell_type": "markdown",
   "metadata": {},
   "source": [
    "### 3.2 直方图"
   ]
  },
  {
   "cell_type": "markdown",
   "metadata": {},
   "source": [
    "* 简单型"
   ]
  },
  {
   "cell_type": "markdown",
   "metadata": {},
   "source": [
    "plt.hist(x, bins=10, color='#377eb8', histtype='bar', rwidth=10, edgecolor='w')  \n",
    "\n",
    "    bins: 直方图条形个数\n",
    "    histtype: 指定直方图的类型（bar, barstacked, step, stepfilled）\n",
    "    rwidth: 设置直方图条形的宽度\n",
    "    edgecolor: 设置直方图边框色\n",
    "<img src=\"picture/9.png\" width = \"35%\" />           "
   ]
  },
  {
   "cell_type": "markdown",
   "metadata": {},
   "source": [
    "* 堆积型"
   ]
  },
  {
   "cell_type": "markdown",
   "metadata": {},
   "source": [
    "plt.hist([x1, x2], **stacked=True**, bins=10, color=['#377eb8', '#bebada'], histtype='bar', rwidth=10, edgecolor='w', label=['x1', 'x2'])  \n",
    "plt.legend(loc='upper left')  \n",
    "<img src=\"picture/10.png\" width = \"35%\" />  "
   ]
  },
  {
   "cell_type": "markdown",
   "metadata": {},
   "source": [
    "* 并列型"
   ]
  },
  {
   "cell_type": "markdown",
   "metadata": {},
   "source": [
    "plt.hist([x1, x2], **stacked=False**, bins=10, color=['#377eb8', '#bebada'], histtype='bar', rwidth=10, edgecolor='w', label=['x1', 'x2'])  \n",
    "plt.legend(loc='upper left')  \n",
    "<img src=\"picture/11.png\" width = \"35%\" />  "
   ]
  },
  {
   "cell_type": "markdown",
   "metadata": {},
   "source": [
    "### 3.3 饼形图"
   ]
  },
  {
   "cell_type": "markdown",
   "metadata": {},
   "source": [
    "* 简单型"
   ]
  },
  {
   "cell_type": "markdown",
   "metadata": {},
   "source": [
    "plt.pie(data, explode=[0,0,0,0], labels=labels, colors=colors, autopct='%1.1f%%', shadow=False, startangle=30)  \n",
    "\n",
    "    data=[0.35, 0.15, 0.2, 0.3]\n",
    "    labels=['A level', 'B level', 'C level', 'D level']\n",
    "    colors=['c', 'g', '#984ea3', '#ff7f00']\n",
    "<img src=\"picture/12.png\" width = \"35%\" /> "
   ]
  },
  {
   "cell_type": "markdown",
   "metadata": {},
   "source": [
    "* 突出型"
   ]
  },
  {
   "cell_type": "markdown",
   "metadata": {},
   "source": [
    "plt.pie(data, **explode=[0.1 ,0,0,0]**, labels=labels, colors=colors, autopct='%1.1f%%', shadow=Ture, startangle=30)  \n",
    "\n",
    "    data=[0.35, 0.15, 0.2, 0.3]\n",
    "    labels=['A level', 'B level', 'C level', 'D level']\n",
    "    colors=['c', 'g', '#984ea3', '#ff7f00']\n",
    "<img src=\"picture/13.png\" width = \"35%\" /> "
   ]
  },
  {
   "cell_type": "markdown",
   "metadata": {},
   "source": [
    "* 分裂型"
   ]
  },
  {
   "cell_type": "markdown",
   "metadata": {},
   "source": [
    "plt.pie(data, **explode=[0.1, 0.1, 0.1, 0.1]**, labels=labels, colors=colors, autopct='%1.1f%%', shadow=Ture, startangle=30)  \n",
    "\n",
    "    data=[0.35, 0.15, 0.2, 0.3]\n",
    "    labels=['A level', 'B level', 'C level', 'D level']\n",
    "    colors=['c', 'g', '#984ea3', '#ff7f00']\n",
    "<img src=\"picture/14.png\" width = \"35%\" /> "
   ]
  },
  {
   "cell_type": "markdown",
   "metadata": {},
   "source": [
    "### 3.4 雷达图"
   ]
  },
  {
   "cell_type": "markdown",
   "metadata": {},
   "source": [
    "* 极径点"
   ]
  },
  {
   "cell_type": "markdown",
   "metadata": {},
   "source": [
    "plt.polar(0.25*np.pi, 20, 'ro', lw=2)  \n",
    "plt.ylim(0,100)  \n",
    " \n",
    "\n",
    "    0.25*np.pi: 极角（逆时针计算）\n",
    "    20: 极径（半径长度）\n",
    "    ro: 标记点颜色及形状\n",
    "    lw: 线宽\n",
    "<img src=\"picture/15.png\" width = \"35%\" /> "
   ]
  },
  {
   "cell_type": "markdown",
   "metadata": {},
   "source": [
    "* 极径闭合图形"
   ]
  },
  {
   "cell_type": "markdown",
   "metadata": {},
   "source": [
    " plt.polar(theta*np.pi, r, \"r-\", lw=2)  \n",
    "plt.ylim(0,100) \n",
    "\n",
    "    theta = np.array([0.25,0.75,1,1.5,0.25])  \n",
    "    r = [20,60,40,80,20] \n",
    " \n",
    "<img src=\"picture/16.png\" width = \"35%\" /> "
   ]
  },
  {
   "cell_type": "markdown",
   "metadata": {},
   "source": [
    "* 填充颜色"
   ]
  },
  {
   "cell_type": "markdown",
   "metadata": {},
   "source": [
    "plt.polar(theta×np.pi, r, 'r-', lw=1)   #先画图  \n",
    "plt.style.use('ggplot')   #使用ggplot的绘图风格  \n",
    "**plt.fill(theta×np.pi, r, 'r', alpha=0.75)**  #'r'是填充颜色  \n",
    "plt.ylim(0, 100)  \n",
    "\n",
    "    theta = np.array([0.25,0.75,1,1.5,0.25])\n",
    "    r = [20,60,40,80,20]\n",
    "<img src=\"picture/17.png\" width = \"35%\" /> "
   ]
  },
  {
   "cell_type": "markdown",
   "metadata": {},
   "source": [
    "* 雷达图覆盖"
   ]
  },
  {
   "cell_type": "markdown",
   "metadata": {},
   "source": [
    "```python\n",
    "import matplotlib.pyplot as plt\n",
    "import numpy as np\n",
    "\n",
    "#构造数据\n",
    "values = [3.2, 2.1, 3.5, 2.8, 3, 4]\n",
    "values_1 = [2.4, 3.1, 4.1, 1.9, 3.5, 2.3]\n",
    "feature = ['个人能力', 'QC知识', \"解决问题能力\", \"服务质量意识\", \"团队精神\", \"IQ\"]\n",
    "N = len(values)\n",
    "# 中文和负号的正常显示\n",
    "plt.rcParams['font.sans-serif'] = 'Microsoft YaHei'\n",
    "plt.rcParams['axes.unicode_minus'] = False\n",
    "#使用ggplot的风格绘图\n",
    "plt.style.use('ggplot')\n",
    "#设置雷达图的角度，用于平分切开一个平面\n",
    "angles = np.linspace(0, 2*np.pi, N, endpoint=False)\n",
    "#使雷达图封闭起来\n",
    "values = np.concatenate((values, [values[0]]))\n",
    "angles = np.concatenate((angles, [angles[0]]))\n",
    "values_1 = np.concatenate((values_1, [values_1[0]]))\n",
    "#绘图\n",
    "fig = plt.figure()\n",
    "#设置为极坐标格式\n",
    "ax = fig.add_subplot(111, polar=True)\n",
    "#绘制折线图\n",
    "ax.plot(angles, values, 'o-', linewidth=2, label='活动前')\n",
    "ax.fill(angles, values, 'r', alpha=0.5)\n",
    "#填充颜色\n",
    "ax.plot(angles, values_1, 'o-', linewidth=2, label='活动后')\n",
    "ax.fill(angles, values_1, 'b', alpha=0.5)\n",
    "#添加每个特质的标签\n",
    "ax.set_thetagrids(angles*180/np.pi, feature)\n",
    "#设置极轴范围\n",
    "ax.set_ylim(0,5)\n",
    "plt.show()\n",
    "```"
   ]
  },
  {
   "cell_type": "markdown",
   "metadata": {},
   "source": [
    "<img src=\"picture/18.png\" width = \"35%\" /> "
   ]
  },
  {
   "cell_type": "markdown",
   "metadata": {},
   "source": [
    "### 3.5 箱线图"
   ]
  },
  {
   "cell_type": "markdown",
   "metadata": {},
   "source": [
    "* 简单型"
   ]
  },
  {
   "cell_type": "markdown",
   "metadata": {},
   "source": [
    "```python\n",
    "import matplotlib.pyplot as plt\n",
    "import numpy as np\n",
    "\n",
    "# 中文和负号的正常显示\n",
    "plt.rcParams['font.sans-serif'] = 'Microsoft YaHei'\n",
    "plt.rcParams['axes.unicode_minus'] = False\n",
    "\n",
    "# 准备数据\n",
    "testA=np.random.randn(5000)\n",
    "testB=np.random.randn(5000)\n",
    "test=[testA, testB]\n",
    "\n",
    "labels=['随机数生成器A', '随机数生成器B']\n",
    "colors=['#1b9e77', '#d95f02']\n",
    "\n",
    "plt.boxplot(test, whis=1.6, widths=0.35, sym='o', labels=labels, patch_artist=True)\n",
    "# test 箱线图输入数据\n",
    "# whis 四分位间距的倍数，用来确定箱须包含数据的范围大小\n",
    "# widths 设置箱体的宽度\n",
    "# sym 离群值的标记样式\n",
    "# labels 绘制每一个数据集的刻度标签\n",
    "# patch_artist 是否给箱体添加颜色\n",
    "\n",
    "plt.grid(axis='y', ls=':', lw=1, color='gray', alpha=0.4)\n",
    "```"
   ]
  },
  {
   "cell_type": "markdown",
   "metadata": {},
   "source": [
    "<img src=\"picture/22.png\" width = \"35%\" /> "
   ]
  },
  {
   "cell_type": "markdown",
   "metadata": {},
   "source": [
    "* 水平放置"
   ]
  },
  {
   "cell_type": "markdown",
   "metadata": {},
   "source": [
    "plt.boxplot(test, whis=1.5, widths=0.35, sym='o', labels=labels, patch_artist=True, **vert=False**)  \n",
    "plt.yticks(rotation=90)  \n",
    "<img src=\"picture/23.png\" width = \"35%\" /> "
   ]
  },
  {
   "cell_type": "markdown",
   "metadata": {},
   "source": [
    "* 不显示离群值"
   ]
  },
  {
   "cell_type": "markdown",
   "metadata": {},
   "source": [
    "plt.boxplot(test, whis=1.5, widths=0.35, sym='o', labels=labels, patch_artist=True, vert=False, **showfliers=False**)  \n",
    "plt.yticks(rotation=90)\n",
    "<img src=\"picture/24.png\" width = \"35%\" /> "
   ]
  },
  {
   "cell_type": "markdown",
   "metadata": {},
   "source": [
    "### 3.6 误差棒图"
   ]
  },
  {
   "cell_type": "markdown",
   "metadata": {},
   "source": [
    "* 简单型"
   ]
  },
  {
   "cell_type": "markdown",
   "metadata": {},
   "source": [
    "```python\n",
    "import matplotlib.pyplot as plt\n",
    "import numpy as np\n",
    "\n",
    "# 准备数据\n",
    "x=np.linspace(0.1, 0.6, 10)\n",
    "y=np.exp(x)\n",
    "error=0.05+0.15*x\n",
    "lower_error=error\n",
    "upper_error=0.3*error\n",
    "error_list=[lower_error, upper_error]\n",
    "\n",
    "plt.errorbar(x, y, fmt=':o', ms=5, mfc='c', mec='r', yerr=error_list, ecolor='y', elinewidth=4, capsize=2)\n",
    "# x, y 数据点的位置\n",
    "# fmt 数据点连线标记 数据点标记\n",
    "# ms 数据点标记大小\n",
    "# mfc 数据点标记颜色\n",
    "# mec 数据点标记边缘颜色\n",
    "# yerr 单一数值的非对称形式误差范围\n",
    "# ecolor 误差棒的线条颜色\n",
    "# elinewidth 误差棒的线条粗细\n",
    "# capsize 误差棒边界横杠的大小\n",
    "```"
   ]
  },
  {
   "cell_type": "markdown",
   "metadata": {},
   "source": [
    "<img src=\"picture/25.png\" width = \"35%\" /> "
   ]
  },
  {
   "cell_type": "markdown",
   "metadata": {},
   "source": [
    "* 带误差棒的柱状图"
   ]
  },
  {
   "cell_type": "markdown",
   "metadata": {},
   "source": [
    "```python\n",
    "import matplotlib.pyplot as plt\n",
    "import numpy as np\n",
    "\n",
    "# 中文和负号的正常显示\n",
    "plt.rcParams['font.sans-serif'] = 'Microsoft YaHei'\n",
    "plt.rcParams['axes.unicode_minus'] = False\n",
    "\n",
    "# 准备数据\n",
    "x=np.arange(5)\n",
    "y=[100, 68, 79, 91, 82]\n",
    "std_err=[7, 2, 6, 10, 5]\n",
    "\n",
    "labels=['园区1', '园区2', '园区3', '园区4', '园区5']\n",
    "error_attri=dict(elinewidth=2, ecolor='black', capsize=3)\n",
    "\n",
    "plt.bar(x, y, color='c', width=0.6, align='center', tick_label=labels,\n",
    "        yerr=std_err, error_kw=error_attri)\n",
    "```"
   ]
  },
  {
   "cell_type": "markdown",
   "metadata": {},
   "source": [
    "<img src=\"picture/26.png\" width = \"35%\" /> "
   ]
  },
  {
   "cell_type": "markdown",
   "metadata": {},
   "source": [
    "* 带误差棒的条形图"
   ]
  },
  {
   "cell_type": "markdown",
   "metadata": {},
   "source": [
    "```python\n",
    "import matplotlib.pyplot as plt\n",
    "import numpy as np\n",
    "\n",
    "# 中文和负号的正常显示\n",
    "plt.rcParams['font.sans-serif'] = 'Microsoft YaHei'\n",
    "plt.rcParams['axes.unicode_minus'] = False\n",
    "\n",
    "# 准备数据\n",
    "x=np.arange(5)\n",
    "y=[1200, 2400, 1800, 2200, 1600]\n",
    "std_err=[150, 100, 180, 130, 80]\n",
    "\n",
    "labels=['家庭', '小说', '心理', '科技', '儿童']\n",
    "colors=['#e41a1c', '#377eb8', '#4daf4a', '#984ea3', '#ff7f00']\n",
    "\n",
    "plt.barh(x, y, color=colors, align='center', tick_label=labels,\n",
    "      xerr=std_err)\n",
    "```"
   ]
  },
  {
   "cell_type": "markdown",
   "metadata": {},
   "source": [
    "<img src=\"picture/27.png\" width = \"35%\" /> "
   ]
  },
  {
   "cell_type": "markdown",
   "metadata": {},
   "source": [
    "* 带误差棒的多数据并列柱状图"
   ]
  },
  {
   "cell_type": "markdown",
   "metadata": {},
   "source": [
    "```python\n",
    "import matplotlib.pyplot as plt\n",
    "import numpy as np\n",
    "\n",
    "# 中文和负号的正常显示\n",
    "plt.rcParams['font.sans-serif'] = 'Microsoft YaHei'\n",
    "plt.rcParams['axes.unicode_minus'] = False\n",
    "\n",
    "# 准备数据\n",
    "x=np.arange(5)\n",
    "y1=[100, 68, 79, 91, 82]\n",
    "y2=[120, 75, 70, 78, 85]\n",
    "std_err1=[7, 2, 6, 10, 5]\n",
    "std_err2=[5, 1, 4, 8, 9]\n",
    "\n",
    "labels=['园区1', '园区2', '园区3', '园区4', '园区5']\n",
    "error_attri=dict(elinewidth=2, ecolor='black', capsize=3)\n",
    "\n",
    "plt.bar(x, y1, width=0.4, color='#377eb8', align='center', label='2010',\n",
    "        yerr=std_err1, error_kw=error_attri)\n",
    "plt.bar(x+0.4, y2, width=0.4, color='#CD5C5C', align='center', label='2013',\n",
    "        yerr=std_err2, error_kw=error_attri)\n",
    "\n",
    "plt.legend(loc='upper right')\n",
    "plt.xticks(x+0.2, labels)\n",
    "```"
   ]
  },
  {
   "cell_type": "markdown",
   "metadata": {},
   "source": [
    "<img src=\"picture/28.png\" width = \"35%\" />"
   ]
  },
  {
   "cell_type": "markdown",
   "metadata": {},
   "source": [
    "* 带误差棒的堆积柱状图"
   ]
  },
  {
   "cell_type": "markdown",
   "metadata": {},
   "source": [
    "```python\n",
    "import matplotlib.pyplot as plt\n",
    "import numpy as np\n",
    "\n",
    "# 中文和负号的正常显示\n",
    "plt.rcParams['font.sans-serif'] = 'Microsoft YaHei'\n",
    "plt.rcParams['axes.unicode_minus'] = False\n",
    "\n",
    "# 准备数据\n",
    "x=np.arange(5)\n",
    "y1=[100, 68, 79, 91, 82]\n",
    "y2=[120, 75, 70, 78, 85]\n",
    "std_err1=[7, 2, 6, 10, 5]\n",
    "std_err2=[5, 1, 4, 8, 9]\n",
    "\n",
    "labels=['园区1', '园区2', '园区3', '园区4', '园区5']\n",
    "error_attri=dict(elinewidth=2, ecolor='black', capsize=3)\n",
    "\n",
    "plt.bar(x, y1, width=0.4, color='#377eb8', align='center', label='2010',\n",
    "        yerr=std_err1, error_kw=error_attri)\n",
    "plt.bar(x, y2, bottom=y1, width=0.4, color='#CD5C5C', align='center', label='2013',\n",
    "        yerr=std_err2, error_kw=error_attri)\n",
    "\n",
    "plt.legend(loc='upper right')\n",
    "plt.xticks(x, labels)\n",
    "```"
   ]
  },
  {
   "cell_type": "markdown",
   "metadata": {},
   "source": [
    "<img src=\"picture/29.png\" width = \"35%\" />"
   ]
  },
  {
   "cell_type": "markdown",
   "metadata": {},
   "source": [
    "### 3.7 图形填充"
   ]
  },
  {
   "cell_type": "markdown",
   "metadata": {},
   "source": [
    "* 曲线与坐标轴之间区域"
   ]
  },
  {
   "cell_type": "markdown",
   "metadata": {},
   "source": [
    "```python\n",
    "import matplotlib.pyplot as plt\n",
    "import numpy as np\n",
    "x = np.linspace(0, 5*np.pi, 1000)\n",
    "y = np.sin(x)\n",
    "plt.fill(x, y, color = \"g\", alpha = 0.3)\n",
    "```"
   ]
  },
  {
   "cell_type": "markdown",
   "metadata": {},
   "source": [
    "<img src=\"picture/19.png\" width = \"35%\" /> "
   ]
  },
  {
   "cell_type": "markdown",
   "metadata": {},
   "source": [
    "* 两曲线间"
   ]
  },
  {
   "cell_type": "markdown",
   "metadata": {},
   "source": [
    "```python\n",
    "import matplotlib.pyplot as plt\n",
    "import numpy as np\n",
    "# 准备数据\n",
    "x = np.linspace(0, 5*np.pi, 1000)\n",
    "y = np.sin(x)\n",
    "y1=np.sin(x)+0.2\n",
    "# 先画图\n",
    "plt.plot(x, y)\n",
    "plt.plot(x, y1)\n",
    "# 填充颜色\n",
    "plt.fill_between(x, y, y1, color = \"g\", alpha = 0.3)\n",
    "\n",
    "```"
   ]
  },
  {
   "cell_type": "markdown",
   "metadata": {},
   "source": [
    "<img src=\"picture/20.png\" width = \"35%\" /> "
   ]
  },
  {
   "cell_type": "markdown",
   "metadata": {},
   "source": [
    "* 指定填充区域"
   ]
  },
  {
   "cell_type": "markdown",
   "metadata": {},
   "source": [
    "```python\n",
    "import matplotlib.pyplot as plt\n",
    "import numpy as np\n",
    "# 准备数据\n",
    "x = np.linspace(0, 5*np.pi, 1000)\n",
    "y = np.sin(x)\n",
    "y1=np.sin(x)+0.2\n",
    "# 先画图\n",
    "plt.plot(x, y)\n",
    "plt.plot(x, y1)\n",
    "# 填充颜色\n",
    "plt.fill_between(x, y, y1, where=(x>=6)&(x<=10), color = \"g\", alpha = 0.75)\n",
    "```"
   ]
  },
  {
   "cell_type": "markdown",
   "metadata": {},
   "source": [
    "<img src=\"picture/21.png\" width = \"35%\" /> "
   ]
  },
  {
   "cell_type": "markdown",
   "metadata": {},
   "source": [
    "## 4 完善统计图形"
   ]
  },
  {
   "cell_type": "markdown",
   "metadata": {},
   "source": [
    "### 4.1 添加图例和标题"
   ]
  },
  {
   "cell_type": "markdown",
   "metadata": {},
   "source": [
    "* 简单型"
   ]
  },
  {
   "cell_type": "markdown",
   "metadata": {},
   "source": [
    "```python\n",
    "import matplotlib.pyplot as plt\n",
    "import numpy as np\n",
    "\n",
    "# 中文和负号的正常显示\n",
    "plt.rcParams['font.sans-serif'] = 'Microsoft YaHei'\n",
    "plt.rcParams['axes.unicode_minus'] = False\n",
    "\n",
    "# 准备数据\n",
    "x=np.linspace(-2*np.pi, 2*np.pi, 200)\n",
    "y=np.sin(x)\n",
    "y1=np.cos(x)\n",
    "\n",
    "plt.plot(x, y, label=r'$\\sin(x)$')\n",
    "plt.plot(x, y1, label=r'$\\cos(x)$')\n",
    "# r'$\\sin(x)$'使用TeX渲染文本\n",
    "plt.legend(loc='lower left')\n",
    "\n",
    "plt.title('正弦函数和余弦函数折线图')\n",
    "plt.show()\n",
    "```"
   ]
  },
  {
   "cell_type": "markdown",
   "metadata": {},
   "source": [
    "<img src=\"picture/30.png\" width = \"35%\" /> "
   ]
  },
  {
   "cell_type": "markdown",
   "metadata": {},
   "source": [
    "* 图例样式调整"
   ]
  },
  {
   "cell_type": "markdown",
   "metadata": {},
   "source": [
    "```python\n",
    "import matplotlib.pyplot as plt\n",
    "import numpy as np\n",
    "\n",
    "#数据准备\n",
    "x=np.arange(0, 2.1, 0.1)\n",
    "y=np.power(x, 3)\n",
    "y1=np.power(x, 2)\n",
    "y2=np.power(x, 1)\n",
    "\n",
    "plt.plot(x, y, label='$x^{3}$')\n",
    "plt.plot(x, y1, label='$x^{2}$')\n",
    "plt.plot(x, y2, label='$x^{1}$')\n",
    "\n",
    "plt.legend(loc='upper left', bbox_to_anchor=(0.05, 0.95), ncol=3, \n",
    "           title='power function', shadow=True, fancybox=True)\n",
    "# bbox_to_anchor 图例框位置\n",
    "# ncol 图例内容前几个显示在一行\n",
    "# title 图例标题\n",
    "# shadow 图例框是否阴影渲染\n",
    "# fancybox 图例框是否圆角处理\n",
    "```"
   ]
  },
  {
   "cell_type": "markdown",
   "metadata": {},
   "source": [
    "<img src=\"picture/31.png\" width = \"35%\" /> "
   ]
  },
  {
   "cell_type": "markdown",
   "metadata": {},
   "source": [
    "* 标题样式调整"
   ]
  },
  {
   "cell_type": "markdown",
   "metadata": {},
   "source": [
    "```python\n",
    "import matplotlib.pyplot as plt\n",
    "import numpy as np\n",
    "\n",
    "#数据准备\n",
    "x=np.linspace(-2, 2, 1000)\n",
    "y=np.exp(x)\n",
    "\n",
    "plt.plot(x, y)\n",
    "\n",
    "# 样式1\n",
    "plt.title('Center demo')\n",
    "# 样式2\n",
    "plt.title('Left demo', loc='left',\n",
    "          fontdict={'size':'xx-large', 'color':'r', 'family':'Times New Roman'})\n",
    "# 样式3\n",
    "plt.title('Right demo', loc='right',\n",
    "          size=20, color='c', style='oblique', family='Comic Sans MS')\n",
    "plt.show()\n",
    "```"
   ]
  },
  {
   "cell_type": "markdown",
   "metadata": {},
   "source": [
    "<img src=\"picture/32.png\" width = \"35%\" /> "
   ]
  },
  {
   "cell_type": "markdown",
   "metadata": {},
   "source": [
    "* 带图例的饼形图"
   ]
  },
  {
   "cell_type": "markdown",
   "metadata": {},
   "source": [
    "```python\n",
    "import matplotlib.pyplot as plt\n",
    "\n",
    "# 中文和负号的正常显示\n",
    "plt.rcParams['font.sans-serif'] = 'Microsoft YaHei'\n",
    "plt.rcParams['axes.unicode_minus'] = False\n",
    "\n",
    "# 准备数据\n",
    "weight=[40, 15, 20, 10, 15]\n",
    "\n",
    "elements=['面粉', '砂糖', '奶油', '草莓酱', '坚果']\n",
    "colors=['#1b9e77', '#d95f02', '#7570b3', '#66a61e', '#e6ab02']\n",
    "\n",
    "# 画图\n",
    "wedges, texts, autotexts=plt.pie(weight, autopct='%1.1f%%', \n",
    "                                 textprops=dict(color='w'), colors=colors)\n",
    "# textprops 设置图形内文本颜色\n",
    "\n",
    "# 设置\n",
    "plt.legend(wedges, elements, fontsize=12, title='配料表', loc='center left',\n",
    "           bbox_to_anchor=(0.91, 0, 0.3, 1))\n",
    "plt.setp(autotexts, size=15, weight='bold')\n",
    "# autotexts 图形内文本格式\n",
    "# size 再次设置大小\n",
    "# weiht 再次设置加粗\n",
    "\n",
    "plt.title('果酱面包配料比例表')\n",
    "plt.show()\n",
    "```"
   ]
  },
  {
   "cell_type": "markdown",
   "metadata": {},
   "source": [
    "<img src=\"picture/33.png\" width = \"35%\" /> "
   ]
  },
  {
   "cell_type": "markdown",
   "metadata": {},
   "source": [
    "### 4.2 调整刻度范围和刻度标签"
   ]
  },
  {
   "cell_type": "markdown",
   "metadata": {},
   "source": [
    "* 简单型"
   ]
  },
  {
   "cell_type": "markdown",
   "metadata": {},
   "source": [
    "```python\n",
    "import matplotlib.pyplot as plt\n",
    "import numpy as np\n",
    "\n",
    "#数据准备\n",
    "x=np.linspace(-2*np.pi, 2*np.pi)\n",
    "y=np.sin(x)\n",
    "\n",
    "# 绘图1\n",
    "plt.subplot(211)\n",
    "plt.plot(x, y)\n",
    "\n",
    "# 绘图2\n",
    "plt.subplot(212)\n",
    "plt.plot(x, y)\n",
    "\n",
    "plt.xlim(-2*np.pi, 2*np.pi)\n",
    "\n",
    "plt.xticks([-2*np.pi, -3*np.pi/2, -1*np.pi, -1*np.pi/2, 0, np.pi/2, np.pi, 3*np.pi/2, 2*np.pi],\n",
    "           [r'$-2\\pi$', r'$-3\\pi/2$', r'$-\\pi$', r'$-\\pi/2$', r'$0$', r'$\\pi/2$', r'$\\pi$', r'$3\\pi/2$', r'$2\\pi$'])\n",
    "\n",
    "plt.show()\n",
    "```"
   ]
  },
  {
   "cell_type": "markdown",
   "metadata": {},
   "source": [
    "<img src=\"picture/34.png\" width = \"35%\" /> "
   ]
  },
  {
   "cell_type": "markdown",
   "metadata": {},
   "source": [
    "* 坐标轴逆序设置"
   ]
  },
  {
   "cell_type": "markdown",
   "metadata": {},
   "source": [
    "```python\n",
    "import matplotlib.pyplot as plt\n",
    "import numpy as np\n",
    "\n",
    "# 中文和负号的正常显示\n",
    "plt.rcParams['font.sans-serif'] = 'Microsoft YaHei'\n",
    "plt.rcParams['axes.unicode_minus'] = False\n",
    "\n",
    "# 准备数据\n",
    "time=np.arange(1, 11, 0.5)\n",
    "machinepower=np.power(time, 2)+0.7\n",
    "\n",
    "# 绘图1\n",
    "plt.subplot(121)\n",
    "plt.plot(time, machinepower, ls='-', lw=2, color='#377eb8')\n",
    "plt.xlim(1, 11)\n",
    "plt.title('坐标轴正序绘图')\n",
    "\n",
    "# 绘图2\n",
    "plt.subplot(122)\n",
    "plt.plot(time, machinepower, ls='-', lw=2, color='#377eb8')\n",
    "\n",
    "plt.xlim(11, 1)  # 逆序设置\n",
    "\n",
    "plt.title('坐标轴逆序绘图')\n",
    "```"
   ]
  },
  {
   "cell_type": "markdown",
   "metadata": {},
   "source": [
    "<img src=\"picture/35.png\" width = \"35%\" /> "
   ]
  },
  {
   "cell_type": "markdown",
   "metadata": {},
   "source": [
    "* 向统计图形添加表格"
   ]
  },
  {
   "cell_type": "markdown",
   "metadata": {},
   "source": [
    "```python\n",
    "import matplotlib.pyplot as plt\n",
    "\n",
    "# 中文和负号的正常显示\n",
    "plt.rcParams['font.sans-serif'] = 'Microsoft YaHei'\n",
    "plt.rcParams['axes.unicode_minus'] = False\n",
    "\n",
    "# 准备数据\n",
    "students=[0.35, 0.15, 0.20, 0.30]\n",
    "explode=[0.1, 0.1, 0.1, 0.1]\n",
    "\n",
    "labels=['A难度水平', 'B难度水平', 'C难度水平', 'D难度水平']\n",
    "colors=['#377eb8', '#e41a1c', '#4daf4a', '#984ea3']\n",
    "\n",
    "#绘图\n",
    "plt.pie(students, explode=explode, labels=labels, autopct='%1.1f%%', \n",
    "        startangle=45, shadow=True, colors=colors)\n",
    "\n",
    "# 添加表格\n",
    "colLabels=['A难度水平', 'B难度水平', 'C难度水平', 'D难度水平']\n",
    "rowLabels=['学生选择试卷人数']\n",
    "studentValues=[[350, 150, 200, 300]]\n",
    "colColors=['#377eb8', '#e41a1c', '#4daf4a', '#984ea3']\n",
    "\n",
    "plt.table(cellText=studentValues, cellLoc='center', colWidths=[0.2]*4, \n",
    "          colLabels=colLabels, colColours=colColors, rowLabels=rowLabels, \n",
    "          rowLoc='center', loc='bottom')\n",
    "# cellText 表格数据\n",
    "# cellLoc 表格中数据对齐位置\n",
    "# colWidths 列宽\n",
    "# colLabels 列名称\n",
    "# colColours 列填充颜色\n",
    "# rowlabels 行名称\n",
    "# rowLoc 行名称对其位置\n",
    "# loc 表格在画布中的位置\n",
    "plt.show()\n",
    "\n",
    "```"
   ]
  },
  {
   "cell_type": "markdown",
   "metadata": {},
   "source": [
    "<img src=\"picture/36.png\" width = \"35%\" /> "
   ]
  },
  {
   "cell_type": "markdown",
   "metadata": {},
   "source": [
    "  "
   ]
  },
  {
   "cell_type": "markdown",
   "metadata": {},
   "source": [
    "## 5 完善统计图形进阶"
   ]
  },
  {
   "cell_type": "markdown",
   "metadata": {},
   "source": [
    "### 5.1 设置坐标轴刻度样式"
   ]
  },
  {
   "cell_type": "markdown",
   "metadata": {},
   "source": [
    "* 简单型"
   ]
  },
  {
   "cell_type": "markdown",
   "metadata": {},
   "source": [
    "```python\n",
    "''' 运用类'''\n",
    "import matplotlib.pyplot as plt\n",
    "import numpy as np\n",
    "from matplotlib.ticker import AutoMinorLocator, MultipleLocator, FuncFormatter\n",
    "\n",
    "# 中文和负号的正常显示\n",
    "plt.rcParams['font.sans-serif'] = 'Microsoft YaHei'\n",
    "plt.rcParams['axes.unicode_minus'] = False\n",
    "\n",
    "# 准备数据\n",
    "x=np.linspace(0.5, 3.5, 100)\n",
    "y=np.sin(x)\n",
    "\n",
    "\n",
    "# 画布设置\n",
    "fig=plt.figure(figsize=(8, 4))  # 将画面设置为长8宽4大小\n",
    "ax=fig.add_subplot(111)  # 创建绘图实例\n",
    "\n",
    "# 坐标轴主刻度线设置\n",
    "ax.xaxis.set_major_locator(MultipleLocator(1.0))  \n",
    "ax.yaxis.set_major_locator(MultipleLocator(1.0))\n",
    "# 坐标轴次刻度线设置\n",
    "ax.xaxis.set_minor_locator(AutoMinorLocator(4))\n",
    "ax.yaxis.set_minor_locator(AutoMinorLocator(4))\n",
    "# MultipleLocator(1.0) 表示在坐标轴的1倍处设置主刻度线\n",
    "# AutoMinorLocator(4) 表示将每一份主刻度线区间等分为4份\n",
    "\n",
    "# 坐标轴刻度线精度设置\n",
    "def minor_tick(x, pos):\n",
    "    '''实现坐标轴主刻度线没有小数，次刻度线保留两位小数''' \n",
    "    if not x % 1:\n",
    "        return \"\"\n",
    "    return '%.2f'% x\n",
    "ax.xaxis.set_minor_formatter(FuncFormatter(minor_tick))\n",
    "# 坐标轴主刻度线格式设置\n",
    "ax.tick_params(which='major', length=15, width=2, colors='r')\n",
    "# 坐标轴次刻度线格式设置\n",
    "ax.tick_params(which='minor', length=5, width=1, labelsize=10, labelcolor='c')\n",
    "# 坐标轴范围设置\n",
    "ax.set_xlim(0, 4)\n",
    "ax.set_ylim(0, 2)\n",
    "\n",
    "\n",
    "# 绘制图形\n",
    "ax.plot(x, y, c=(0.25, 0.25, 1), lw=2, zorder=10)\n",
    "# 设置网格线\n",
    "ax.grid(linestyle='-', linewidth=0.5, color='r', zorder=0)\n",
    "```"
   ]
  },
  {
   "cell_type": "markdown",
   "metadata": {},
   "source": [
    "<img src=\"picture/37.png\" width = \"35%\" /> "
   ]
  },
  {
   "cell_type": "markdown",
   "metadata": {},
   "source": [
    "* 面向对象型"
   ]
  },
  {
   "cell_type": "markdown",
   "metadata": {},
   "source": [
    "```python\n",
    "import matplotlib.pyplot as plt\n",
    "\n",
    "# 设置画面大小\n",
    "fig=plt.figure(figsize=(8, 8))\n",
    "# 创建绘图实例\n",
    "ax=fig.add_axes([0.2, 0.2, 0.6, 0.6]) # 数据是 x位置 y位置 x大小 y大小\n",
    "\n",
    "# 设置刻度线标签\n",
    "for ticklabel in ax.xaxis.get_ticklabels():\n",
    "    ticklabel.set_color('slateblue')  # 设置标签字体颜色\n",
    "    ticklabel.set_fontsize(18)  # 设置标签字体大小\n",
    "    ticklabel.set_rotation(20)  # 设置标签字体旋转角度\n",
    " \n",
    "# 设置刻度标记线\n",
    "for tickline in ax.yaxis.get_ticklines():\n",
    "    tickline.set_color('lightgreen')  # 设置刻度标记线颜色\n",
    "    tickline.set_markersize(10)  # 设置刻度标记线长度\n",
    "    tickline.set_markeredgewidth(2)  # 设置刻度标记线宽度\n",
    "    \n",
    "plt.show()\n",
    "```"
   ]
  },
  {
   "cell_type": "markdown",
   "metadata": {},
   "source": [
    "<img src=\"picture/38.png\" width = \"35%\" /> "
   ]
  },
  {
   "cell_type": "markdown",
   "metadata": {},
   "source": [
    "* 运用货币和时间序列样式的刻度标签"
   ]
  },
  {
   "cell_type": "markdown",
   "metadata": {},
   "source": [
    "```python\n",
    "import matplotlib.pyplot as plt\n",
    "import numpy as np\n",
    "\n",
    "from calendar import day_name\n",
    "from matplotlib.ticker import FormatStrFormatter\n",
    "\n",
    "# 准备数据\n",
    "x=np.arange(1, 8, 1)\n",
    "y=2*x\n",
    "\n",
    "# 画布设置\n",
    "fig=plt.figure()\n",
    "ax=fig.add_axes([0.2, 0.2, 0.7, 0.7])\n",
    "\n",
    "# 绘图\n",
    "ax.plot(x, y, ls='-', lw=2, color='orange', marker='o', ms=8, mfc='c', mec='c')\n",
    "\n",
    "# 设置\n",
    "ax.yaxis.set_major_formatter(FormatStrFormatter(r'$\\yen%1.1f$'))\n",
    "plt.xticks(x, day_name[0:7], rotation=25)\n",
    "\n",
    "plt.xlim(0, 8)\n",
    "plt.ylim(0, 18)\n",
    "\n",
    "plt.show()\n",
    "```"
   ]
  },
  {
   "cell_type": "markdown",
   "metadata": {},
   "source": [
    "<img src=\"picture/39.png\" width = \"35%\" /> "
   ]
  },
  {
   "cell_type": "markdown",
   "metadata": {},
   "source": [
    "### 5.2 添加有指示注解和无指示注解"
   ]
  },
  {
   "cell_type": "markdown",
   "metadata": {},
   "source": [
    "* 简单型"
   ]
  },
  {
   "cell_type": "markdown",
   "metadata": {},
   "source": [
    "```python\n",
    "import matplotlib.pyplot as plt\n",
    "import numpy as np\n",
    "\n",
    "# 准备数据\n",
    "x=np.linspace(0.5, 3.5, 100)\n",
    "y=np.sin(x)\n",
    "\n",
    "# 画布设置\n",
    "fig=plt.figure()\n",
    "ax=fig.add_subplot(111)\n",
    "\n",
    "# 绘图\n",
    "ax.plot(x, y, ls='--', lw=2, color='b')\n",
    "\n",
    "# 设置\n",
    "ax.annotate('maximum', xy=(np.pi/2, 1.0), xycoords='data',\n",
    "            xytext=((np.pi/2)-0.15, 0.8), textcoords='data',\n",
    "            weight='bold', color='r', arrowprops=dict(arrowstyle='->', \n",
    "            connectionstyle='arc3', color='r'))\n",
    "# 'maximum' 注释内容\n",
    "# xy 注释图像位置\n",
    "# xycoords xy的坐标系统 表示与图像坐标系统相同\n",
    "# xytext 注释内容位置\n",
    "# textcoods 注释内容的坐标轴\n",
    "\n",
    "ax.text(2.8, 0.4, '$y=\\sin(x)$', fontsize=12, color='b', \n",
    "        bbox=dict(facecolor='y', alpha=0.5))\n",
    "plt.show()\n",
    "```"
   ]
  },
  {
   "cell_type": "markdown",
   "metadata": {},
   "source": [
    "<img src=\"picture/40.png\" width = \"35%\" /> "
   ]
  },
  {
   "cell_type": "markdown",
   "metadata": {},
   "source": [
    "* 圆角文本框"
   ]
  },
  {
   "cell_type": "markdown",
   "metadata": {},
   "source": [
    "```python\n",
    "import matplotlib.pyplot as plt\n",
    "import numpy as np\n",
    "\n",
    "# 准备数据\n",
    "x=np.linspace(0, 10, 40)\n",
    "y=np.random.randn(40)\n",
    "\n",
    "# 绘图\n",
    "plt.plot(x, y, ls='-', lw=2, marker='o', ms=12, mfc='orange', alpha=0.5)\n",
    "\n",
    "# 设置\n",
    "plt.grid(ls=':', color='y', alpha=0.5)\n",
    "plt.text(6, -1, 'Matplotlib', size=12, rotation=20, \n",
    "         bbox=dict(boxstyle='round', ec='#8969cd', fc='#FFE1FF'))\n",
    "# boxstyle round圆角 square方\n",
    "\n",
    "plt.show()\n",
    "```"
   ]
  },
  {
   "cell_type": "markdown",
   "metadata": {},
   "source": [
    "<img src=\"picture/41.png\" width = \"35%\" /> "
   ]
  },
  {
   "cell_type": "markdown",
   "metadata": {},
   "source": [
    "* 文本水印效果"
   ]
  },
  {
   "cell_type": "markdown",
   "metadata": {},
   "source": [
    "```python\n",
    "import matplotlib.pyplot as plt\n",
    "import numpy as np\n",
    "\n",
    "# 准备数据\n",
    "x=np.linspace(0, 10, 40)\n",
    "y=np.random.randn(40)\n",
    "\n",
    "# 绘图\n",
    "plt.plot(x, y, ls='-', lw=2, marker='o', ms=12, mfc='orange', alpha=0.5)\n",
    "\n",
    "# 设置\n",
    "plt.grid(ls=':', color='y', alpha=0.5)\n",
    "plt.text(1, 2, 'Matplotlib', size=30, color='gray',  alpha=0.5)\n",
    "plt.show()\n",
    "```"
   ]
  },
  {
   "cell_type": "markdown",
   "metadata": {},
   "source": [
    "<img src=\"picture/42.png\" width = \"35%\" /> "
   ]
  },
  {
   "cell_type": "markdown",
   "metadata": {},
   "source": [
    "* 指示箭头弯曲"
   ]
  },
  {
   "cell_type": "markdown",
   "metadata": {},
   "source": [
    "```python\n",
    "import matplotlib.pyplot as plt\n",
    "import numpy as np\n",
    "\n",
    "# 准备数据\n",
    "x=np.linspace(0.5, 3.5, 100)\n",
    "y=np.sin(x)\n",
    "\n",
    "# 画布设置\n",
    "fig=plt.figure()\n",
    "ax=fig.add_subplot(111)\n",
    "\n",
    "# 绘图\n",
    "ax.plot(x, y, ls='--', lw=2, color='b')\n",
    "\n",
    "# 设置\n",
    "arrowprops=dict(arrowstyle='->', \n",
    "                connectionstyle='angle, angleA=0, angleB=90, rad=10', color='r')\n",
    "# angle 指示线弯曲角度 只能弯曲一次\n",
    "# rad 弯曲处的弧度角\n",
    "\n",
    "bbox=dict(boxstyle='round', fc='#7EC0EE', ec='#9B30FF')\n",
    "ax.annotate('maximum', xy=(np.pi, 0), xycoords='data',\n",
    "            xytext=(1.5, 0.4), textcoords='data',\n",
    "            weight='bold', color='r', bbox=bbox, arrowprops=arrowprops)\n",
    "# 'maximum' 注释内容\n",
    "# xy 注释图像位置\n",
    "# xycoords xy的坐标系统 表示与图像坐标系统相同\n",
    "# xytext 注释内容位置\n",
    "# textcoods 注释内容的坐标轴\n",
    "\n",
    "plt.show()\n",
    "```"
   ]
  },
  {
   "cell_type": "markdown",
   "metadata": {},
   "source": [
    "<img src=\"picture/43.png\" width = \"35%\" />"
   ]
  },
  {
   "cell_type": "markdown",
   "metadata": {},
   "source": [
    "* 有箭头指示趋势线"
   ]
  },
  {
   "cell_type": "markdown",
   "metadata": {},
   "source": [
    "```python\n",
    "import matplotlib.pyplot as plt\n",
    "import numpy as np\n",
    "\n",
    "# 准备数据\n",
    "x=np.linspace(0, 10, 2000)\n",
    "y=np.sin(x)\n",
    "\n",
    "# 画布设置\n",
    "fig=plt.figure()\n",
    "ax=fig.add_subplot(111)\n",
    "\n",
    "# 绘图\n",
    "ax.plot(x, y, ls='-', lw=2, c='b')\n",
    "\n",
    "# 设置\n",
    "arrowprops=dict(arrowstyle='->', color='r')\n",
    "\n",
    "ax.annotate(' ', xy=(3*np.pi/2, np.sin(3*np.pi/2)), \n",
    "            xytext=(np.pi/2, np.sin(np.pi/2)), arrowprops=arrowprops) # 方法1画趋势线\n",
    "\n",
    "ax.arrow(0, -0.4, np.pi/2, 1.2, head_width=0.1, head_length=0.1, fc='g', ec='g') # 方法2画趋势线\n",
    "\n",
    "plt.show()\n",
    "```"
   ]
  },
  {
   "cell_type": "markdown",
   "metadata": {},
   "source": [
    "<img src=\"picture/44.png\" width = \"35%\" />"
   ]
  },
  {
   "cell_type": "markdown",
   "metadata": {},
   "source": [
    "* 桑基图"
   ]
  },
  {
   "cell_type": "markdown",
   "metadata": {},
   "source": [
    "```python\n",
    "import matplotlib.pyplot as plt\n",
    "from matplotlib.sankey import Sankey\n",
    "\n",
    "# 准备数据\n",
    "flows=[0.2, 0.1, 0.4, 0.3, -0.6, -0.05, -0.15, -0.2]  # 正值表示流入 负值表示流出\n",
    "labels=['', '', '', '', 'family', 'trip', 'education', 'sport']  # 数值标签\n",
    "orientations=[1, 1, 0, -1, 1, -1, 1, 0]  # 标签位于数值的上方 水平 下方\n",
    "\n",
    "# 绘图\n",
    "sankey=Sankey()\n",
    "\n",
    "# 设置\n",
    "sankey.add(flows=flows, labels=labels, orientations=orientations, \n",
    "           color='c', fc='lightgreen', patchlabel='Life Cost', alpha=0.7)\n",
    "# color 边缘颜色\n",
    "# fc 相当于填充颜色\n",
    "# patchlabel 总标签\n",
    "\n",
    "diagrams=sankey.finish()\n",
    "diagrams[0].texts[4].set_color('r')  # 选中第4个数值标签颜色设为红色\n",
    "diagrams[0].texts[4].set_weight('bold')  # 选中第4个数值标签加粗\n",
    "diagrams[0].text.set_fontsize(12)  # 总标签大小设置\n",
    "diagrams[0].text.set_fontweight('bold')  # 总标签加粗\n",
    "\n",
    "plt.show()\n",
    "```"
   ]
  },
  {
   "cell_type": "markdown",
   "metadata": {},
   "source": [
    "<img src=\"picture/45.png\" width = \"35%\" />"
   ]
  },
  {
   "cell_type": "markdown",
   "metadata": {},
   "source": [
    "  "
   ]
  },
  {
   "cell_type": "markdown",
   "metadata": {},
   "source": [
    "## 6 划分画布"
   ]
  },
  {
   "cell_type": "markdown",
   "metadata": {},
   "source": [
    "### 6.1 subplot()函数"
   ]
  },
  {
   "cell_type": "markdown",
   "metadata": {},
   "source": [
    "* 简单型"
   ]
  },
  {
   "cell_type": "markdown",
   "metadata": {},
   "source": [
    "```python\n",
    "import matplotlib.pyplot as plt\n",
    "import numpy as np\n",
    "\n",
    "# 准备数据\n",
    "x=np.linspace(-2*np.pi, 2*np.pi, 200)\n",
    "y=np.sin(x)\n",
    "y1=np.cos(x)\n",
    "\n",
    "# 画布设置\n",
    "fig=plt.figure(figsize=(8, 4))\n",
    "ax=fig.add_subplot(121)\n",
    "ax.plot(x, y, ls=':', lw=2, color='c')\n",
    "ax.set_title('$y=\\sin(x)$')\n",
    "\n",
    "ax1=fig.add_subplot(122)\n",
    "ax1.plot(x, y1, ls=':', lw=2, color='b')\n",
    "ax1.set_title('$y1=\\cos(x)$')\n",
    "\n",
    "plt.show()\n",
    "```"
   ]
  },
  {
   "cell_type": "markdown",
   "metadata": {},
   "source": [
    "<img src=\"picture/46.png\" width = \"35%\" />"
   ]
  },
  {
   "cell_type": "markdown",
   "metadata": {},
   "source": [
    "* 极坐标轴上绘制折线图"
   ]
  },
  {
   "cell_type": "markdown",
   "metadata": {},
   "source": [
    "```python\n",
    "import matplotlib.pyplot as plt\n",
    "import numpy as np\n",
    "\n",
    "# 准备数据\n",
    "r=np.linspace(0, 1, 100)\n",
    "theta=2*np.pi*r\n",
    "\n",
    "# 画布设置\n",
    "ax=plt.subplot(111, polar=True)\n",
    "\n",
    "# 绘图\n",
    "ax.plot(theta, r, ls='-', lw=2, c='r')\n",
    "\n",
    "plt.show()\n",
    "```"
   ]
  },
  {
   "cell_type": "markdown",
   "metadata": {},
   "source": [
    "<img src=\"picture/47.png\" width = \"35%\" />"
   ]
  },
  {
   "cell_type": "markdown",
   "metadata": {},
   "source": [
    "* 极坐标轴上绘制散点图"
   ]
  },
  {
   "cell_type": "markdown",
   "metadata": {},
   "source": [
    "```python\n",
    "import matplotlib.pyplot as plt\n",
    "import matplotlib as mpl\n",
    "import numpy as np\n",
    "\n",
    "# 准备数据\n",
    "r=30*np.random.rand(100)\n",
    "theta=2*np.pi*np.random.rand(100)\n",
    "colors=np.random.rand(100)\n",
    "size=10*r\n",
    "\n",
    "# 画布设置\n",
    "ax=plt.subplot(111, polar=True)\n",
    "\n",
    "# 绘图\n",
    "ax.scatter(theta, r, s=size, c=colors, cmap=mpl.cm.PuOr, marker='*')\n",
    "\n",
    "plt.show()\n",
    "```"
   ]
  },
  {
   "cell_type": "markdown",
   "metadata": {},
   "source": [
    "<img src=\"picture/48.png\" width = \"35%\" />"
   ]
  },
  {
   "cell_type": "markdown",
   "metadata": {},
   "source": [
    "* 非等分画布绘图区域"
   ]
  },
  {
   "cell_type": "markdown",
   "metadata": {},
   "source": [
    "```python\n",
    "import matplotlib.pyplot as plt\n",
    "import numpy as np\n",
    "\n",
    "# 准备数据\n",
    "x=np.linspace(0, 2*np.pi, 1000)\n",
    "y=np.sin(x)\n",
    "\n",
    "# 画布设置\n",
    "fig=plt.figure(figsize=(8, 8))\n",
    "\n",
    "# 绘图\n",
    "ax=fig.add_subplot(121)\n",
    "ax.plot(x, y, ls=':', lw=2, c='r')\n",
    "\n",
    "ax1=fig.add_subplot(222)\n",
    "ax1.plot(x, y, ls='-', lw=2, c='b')\n",
    "\n",
    "ax2=fig.add_subplot(224)\n",
    "ax2.plot(x, y, ls='-.', lw=2, c='g')\n",
    "\n",
    "plt.show()\n",
    "```"
   ]
  },
  {
   "cell_type": "markdown",
   "metadata": {},
   "source": [
    "<img src=\"picture/49.png\" width = \"35%\" />"
   ]
  },
  {
   "cell_type": "markdown",
   "metadata": {},
   "source": [
    "### 6.2 subplot2grid()函数"
   ]
  },
  {
   "cell_type": "markdown",
   "metadata": {},
   "source": [
    "```python\n",
    "import matplotlib.pyplot as plt\n",
    "import numpy as np\n",
    "\n",
    "# 中文和负号的正常显示\n",
    "plt.rcParams['font.sans-serif'] = 'Microsoft YaHei'\n",
    "plt.rcParams['axes.unicode_minus'] = False\n",
    "\n",
    "# 准备数据\n",
    "x=np.linspace(0, 2*np.pi, 1000)\n",
    "y=np.sin(x)\n",
    "\n",
    "# 画布设置\n",
    "plt.figure(figsize=(12, 8))\n",
    "\n",
    "# 绘图\n",
    "plt.subplot2grid((2, 3), (0, 0), colspan=2)  # 划分成2行3列 从第1行第1列开始 跨越2列 跨越行rowspan\n",
    "plt.plot(x, y, ls=':', lw=2, c='r')\n",
    "plt.title('中型图')\n",
    "\n",
    "plt.subplot2grid((2, 3), (0, 2))\n",
    "plt.plot(x, y, ls='-', lw=2, c='b')\n",
    "plt.title('小型图')\n",
    "\n",
    "plt.subplot2grid((2, 3), (1, 0), colspan=3)\n",
    "plt.plot(x, y, ls='-.', lw=2, c='g')\n",
    "plt.title('大型图')  # 总标题用plt.suptitle()\n",
    "plt.show()\n",
    "```"
   ]
  },
  {
   "cell_type": "markdown",
   "metadata": {},
   "source": [
    "<img src=\"picture/50.png\" width = \"35%\" />"
   ]
  },
  {
   "cell_type": "markdown",
   "metadata": {},
   "source": [
    "### 6.3 subplots()函数"
   ]
  },
  {
   "cell_type": "markdown",
   "metadata": {},
   "source": [
    "```python\n",
    "import matplotlib.pyplot as plt\n",
    "import numpy as np\n",
    "\n",
    "# 中文和负号的正常显示\n",
    "plt.rcParams['font.sans-serif'] = 'Microsoft YaHei'\n",
    "plt.rcParams['axes.unicode_minus'] = False\n",
    "\n",
    "# 准备数据\n",
    "x=np.linspace(0, 2*np.pi, 100)\n",
    "y=np.sin(x)*np.exp(-x)\n",
    "\n",
    "# 画布设置\n",
    "plt.figure(figsize=(8, 4))\n",
    "fig, ax=plt.subplots(1, 2)\n",
    "\n",
    "# 绘图\n",
    "ax1=ax[0]\n",
    "ax1.plot(x, y, ls='-', lw=2, c='b')\n",
    "ax1.set_title('折线图', size=12)\n",
    "\n",
    "ax2=ax[1]\n",
    "ax2.scatter(x, y, marker='o', c='g')\n",
    "ax2.set_title('散点图', size=12)\n",
    "\n",
    "plt.suptitle('subplots画图示例', size=20, weight='bold')\n",
    "```"
   ]
  },
  {
   "cell_type": "markdown",
   "metadata": {},
   "source": [
    "<img src=\"picture/51.png\" width = \"35%\" />"
   ]
  },
  {
   "cell_type": "markdown",
   "metadata": {},
   "source": [
    " "
   ]
  },
  {
   "cell_type": "markdown",
   "metadata": {},
   "source": [
    "## 7 共享绘图区域的坐标轴"
   ]
  },
  {
   "cell_type": "markdown",
   "metadata": {},
   "source": [
    "### 7.1 一个绘图区域绘制多幅图形"
   ]
  },
  {
   "cell_type": "markdown",
   "metadata": {},
   "source": [
    "```python\n",
    "import matplotlib.pyplot as plt\n",
    "import numpy as np\n",
    "\n",
    "# 中文和负号的正常显示\n",
    "plt.rcParams['font.sans-serif'] = 'Microsoft YaHei'\n",
    "plt.rcParams['axes.unicode_minus'] = False\n",
    "\n",
    "# 准备数据\n",
    "t=np.linspace(0, 10, 1000)\n",
    "s=np.exp(t)\n",
    "\n",
    "# 画布设置\n",
    "fig=plt.figure(figsize=(8, 8))\n",
    "ax=fig.add_subplot(111)\n",
    "\n",
    "ax.plot(t, s, ls=':', lw=2, c='b')\n",
    "ax.set_xlabel('x坐标轴')\n",
    "ax.set_ylabel('以e为底的指数函数', color='b')\n",
    "ax.tick_params('y', colors='b')  # 设置y坐标轴的颜色为蓝色\n",
    "\n",
    "ax1=ax.twinx()  # 共享x坐标轴\n",
    "s1=np.cos(t**2)\n",
    "ax1.plot(t, s1, c='r', ls=':', lw=2)\n",
    "ax1.set_ylabel('余弦函数', color='r')\n",
    "ax1.tick_params('y', colors='r')  # 设置y坐标轴的颜色为红色\n",
    "\n",
    "plt.show()\n",
    "```"
   ]
  },
  {
   "cell_type": "markdown",
   "metadata": {},
   "source": [
    "<img src=\"picture/52.png\" width = \"35%\" />"
   ]
  },
  {
   "cell_type": "markdown",
   "metadata": {},
   "source": [
    "### 7.2 不同图形间共享坐标轴"
   ]
  },
  {
   "cell_type": "markdown",
   "metadata": {},
   "source": [
    "* sharex (sharey) ='all' ('none', 'row', 'col')"
   ]
  },
  {
   "cell_type": "markdown",
   "metadata": {},
   "source": [
    "```python\n",
    "import matplotlib.pyplot as plt\n",
    "import numpy as np\n",
    "\n",
    "# 中文和负号的正常显示\n",
    "plt.rcParams['font.sans-serif'] = 'Microsoft YaHei'\n",
    "plt.rcParams['axes.unicode_minus'] = False\n",
    "\n",
    "# 准备数据\n",
    "x1=np.linspace(0, 2*np.pi, 400)\n",
    "y1=np.cos(x1**2)\n",
    "x2=np.linspace(0.01, 10, 100)\n",
    "y2=np.sin(x2)\n",
    "x3=np.random.rand(100)\n",
    "y3=np.linspace(0, 3, 100)\n",
    "x4=np.arange(0, 6, 0.5)\n",
    "y4=np.power(x4, 3)\n",
    "\n",
    "# 画布设置\n",
    "fig, ax=plt.subplots(2, 2, figsize=(8, 8), sharex='all')  # 全部图形共享x坐标轴\n",
    "# fig, ax=plt.subplots(2, 2, figsize=(8, 8), sharex='none')  # 不共享坐标轴\n",
    "# fig, ax=plt.subplots(2, 2, figsize=(8, 8), sharex='row')  # 共享行坐标轴\n",
    "# fig, ax=plt.subplots(2, 2, figsize=(8, 8), sharex='col')  # 共享列坐标轴\n",
    "\n",
    "\n",
    "# 绘图\n",
    "ax1=ax[0, 0]\n",
    "ax1.plot(x1, y1)\n",
    "ax2=ax[0, 1]\n",
    "ax2.plot(x2, y2)\n",
    "ax3=ax[1, 0]\n",
    "ax3.scatter(x3, y3)\n",
    "ax4=ax[1, 1]\n",
    "ax4.scatter(x4, y4)\n",
    "\n",
    "plt.suptitle('全共享x坐标轴')\n",
    "# plt.suptitle('不共享x坐标轴')\n",
    "# plt.suptitle('共享行x坐标轴')\n",
    "# plt.suptitle('共享列x坐标轴')\n",
    "plt.show()\n",
    "```"
   ]
  },
  {
   "cell_type": "markdown",
   "metadata": {},
   "source": [
    "<img src=\"picture/54.png\" width = \"35%\" />"
   ]
  },
  {
   "cell_type": "markdown",
   "metadata": {},
   "source": [
    "<img src=\"picture/55.png\" width = \"35%\" />"
   ]
  },
  {
   "cell_type": "markdown",
   "metadata": {},
   "source": [
    "<img src=\"picture/56.png\" width = \"35%\" />"
   ]
  },
  {
   "cell_type": "markdown",
   "metadata": {},
   "source": [
    "<img src=\"picture/57.png\" width = \"35%\" />"
   ]
  },
  {
   "cell_type": "markdown",
   "metadata": {},
   "source": [
    "* 任意图形间共享坐标轴"
   ]
  },
  {
   "cell_type": "markdown",
   "metadata": {},
   "source": [
    "```python\n",
    "import matplotlib.pyplot as plt\n",
    "import numpy as np\n",
    "\n",
    "# 中文和负号的正常显示\n",
    "plt.rcParams['font.sans-serif'] = 'Microsoft YaHei'\n",
    "plt.rcParams['axes.unicode_minus'] = False\n",
    "\n",
    "# 准备数据\n",
    "x1=np.linspace(0, 2*np.pi, 400)\n",
    "y1=np.cos(x1**2)\n",
    "x2=np.linspace(0.01, 10, 100)\n",
    "y2=np.sin(x2)\n",
    "x3=np.random.rand(100)\n",
    "y3=np.linspace(0, 3, 100)\n",
    "x4=np.arange(0, 6, 0.5)\n",
    "y4=np.power(x4, 3)\n",
    "\n",
    "# 画布设置\n",
    "fig=plt.figure(figsize=(8, 8))\n",
    "\n",
    "# 绘图\n",
    "ax1=plt.subplot(221)\n",
    "ax1.plot(x1, y1)\n",
    "ax2=plt.subplot(222)\n",
    "ax2.plot(x2, y2)\n",
    "ax3=plt.subplot(223)\n",
    "ax3.scatter(x3, y3)\n",
    "\n",
    "ax4=plt.subplot(224, sharex=ax1)  # 1,4图共享坐标轴\n",
    "ax4.scatter(x4, y4)\n",
    "\n",
    "plt.suptitle('共享1，4图x坐标轴')\n",
    "plt.show()\n",
    "```"
   ]
  },
  {
   "cell_type": "markdown",
   "metadata": {},
   "source": [
    "<img src=\"picture/58.png\" width = \"35%\" />"
   ]
  },
  {
   "cell_type": "markdown",
   "metadata": {},
   "source": [
    "* 去除共享坐标轴图形间的空隙"
   ]
  },
  {
   "cell_type": "markdown",
   "metadata": {},
   "source": [
    "```python\n",
    "import matplotlib.pyplot as plt\n",
    "import numpy as np\n",
    "\n",
    "# 中文和负号的正常显示\n",
    "plt.rcParams['font.sans-serif'] = 'Microsoft YaHei'\n",
    "plt.rcParams['axes.unicode_minus'] = False\n",
    "\n",
    "# 准备数据\n",
    "x1=np.linspace(0, 2*np.pi, 400)\n",
    "y1=np.cos(x1**2)\n",
    "x2=np.linspace(0.01, 10, 100)\n",
    "y2=np.sin(x2)\n",
    "x3=np.random.rand(100)\n",
    "y3=np.linspace(0, 3, 100)\n",
    "x4=np.arange(0, 6, 0.5)\n",
    "y4=np.power(x4, 3)\n",
    "\n",
    "# 画布设置\n",
    "fig, [ax1, ax2, ax3, ax4]=plt.subplots(4, 1, figsize=(8, 16), sharex='all')  # 全部图形共享x坐标轴\n",
    "\n",
    "fig.subplots_adjust(hspace=0)  # 去除水平方向的空隙 left right bottom top hspace wspace\n",
    "\n",
    "# 绘图\n",
    "ax1.plot(x1, y1, c='c')\n",
    "ax2.plot(x2, y2, c='y')\n",
    "ax3.scatter(x3, y3, c='g')\n",
    "ax4.scatter(x4, y4, c='b')\n",
    "\n",
    "plt.show()\n",
    "```"
   ]
  },
  {
   "cell_type": "markdown",
   "metadata": {},
   "source": [
    "<img src=\"picture/59.png\" width = \"35%\" />"
   ]
  },
  {
   "cell_type": "markdown",
   "metadata": {},
   "source": [
    " "
   ]
  },
  {
   "cell_type": "markdown",
   "metadata": {},
   "source": [
    "## 8 坐标轴的高阶应用"
   ]
  },
  {
   "cell_type": "markdown",
   "metadata": {},
   "source": [
    "### 8.1 任意位置设置坐标轴"
   ]
  },
  {
   "cell_type": "markdown",
   "metadata": {},
   "source": [
    "* 简单型"
   ]
  },
  {
   "cell_type": "markdown",
   "metadata": {},
   "source": [
    "```python\n",
    "import matplotlib.pyplot as plt\n",
    "import numpy as np\n",
    "\n",
    "# 准备数据\n",
    "x1=np.linspace(0, 2*np.pi, 400)\n",
    "y1=np.cos(x1**2)\n",
    "x2=np.linspace(0.01, 10, 100)\n",
    "y2=np.sin(x2)\n",
    "x3=np.random.rand(100)\n",
    "y3=np.linspace(0, 1, 100)\n",
    "\n",
    "# 绘图\n",
    "plt.axes([0.05, 0.7, 0.3, 0.25], frameon=True)\n",
    "# [left, bottom, width, height] 距边界距离 距边界距离 宽 高\n",
    "# plt.axes([0.05, 0.7, 0.3, 0.25], frameon=True, aspect='equal') # 非等大\n",
    "plt.plot(x1, y1, ls=':', lw=2, c='c')\n",
    "\n",
    "plt.axes([0.3, 0.4, 0.3, 0.25], frameon=True)\n",
    "plt.plot(x2, y2, ls='-.', lw=2, c='b')\n",
    "\n",
    "plt.axes([0.55, 0.1, 0.3, 0.25], frameon=True)\n",
    "plt.scatter(x3, y3, c='g')\n",
    "\n",
    "plt.show()\n",
    "```"
   ]
  },
  {
   "cell_type": "markdown",
   "metadata": {},
   "source": [
    "<img src=\"picture/60.png\" width = \"35%\" />"
   ]
  },
  {
   "cell_type": "markdown",
   "metadata": {},
   "source": [
    "<img src=\"picture/61.png\" width = \"35%\" />"
   ]
  },
  {
   "cell_type": "markdown",
   "metadata": {},
   "source": [
    "* 画面紧凑 坐标轴范围调整 坐标轴隐藏"
   ]
  },
  {
   "cell_type": "markdown",
   "metadata": {},
   "source": [
    "```python\n",
    "import matplotlib.pyplot as plt\n",
    "import numpy as np\n",
    "\n",
    "# 准备数据\n",
    "x1=np.linspace(0, 2*np.pi, 400)\n",
    "y1=np.cos(x1**2)\n",
    "x2=np.linspace(0.01, 10, 100)\n",
    "y2=np.sin(x2)\n",
    "x3=np.random.rand(100)\n",
    "y3=np.linspace(0, 1, 100)\n",
    "\n",
    "# 绘图\n",
    "plt.axes([0.05, 0.7, 0.3, 0.25], frameon=True,aspect='equal')\n",
    "plt.plot(x1, y1, ls=':', lw=2, c='c')\n",
    "plt.axis('image')  # 画面紧凑\n",
    "\n",
    "plt.axes([0.3, 0.4, 0.3, 0.25], frameon=True,aspect='equal')\n",
    "plt.plot(x2, y2, ls='-.', lw=2, c='b')\n",
    "plt.axis([2.1, 3.9, 0.5, 1.9])  # 坐标轴范围调整\n",
    "\n",
    "plt.axes([0.55, 0.1, 0.3, 0.25], frameon=True,aspect='equal')\n",
    "plt.scatter(x3, y3, c='g')\n",
    "plt.axis('off')  # 坐标轴隐藏\n",
    "\n",
    "plt.show()\n",
    "```"
   ]
  },
  {
   "cell_type": "markdown",
   "metadata": {},
   "source": [
    "<img src=\"picture/62.png\" width = \"35%\" />"
   ]
  },
  {
   "cell_type": "markdown",
   "metadata": {},
   "source": [
    "* 控制坐标轴刻度的显示"
   ]
  },
  {
   "cell_type": "markdown",
   "metadata": {},
   "source": [
    "```python\n",
    "import matplotlib.pyplot as plt\n",
    "\n",
    "# 画布设置\n",
    "fig=plt.figure(figsize=(8, 4))\n",
    "\n",
    "# 坐标轴显示\n",
    "ax1=plt.subplot(121)\n",
    "ax1.set_xticks(range(0, 251, 50))\n",
    "plt.grid(True, axis='x')\n",
    "# ax1.set_xticklabels('特殊刻度标签')\n",
    "# ax1.set_yticklabels('特殊刻度标签')\n",
    "\n",
    "ax2=plt.subplot(122)\n",
    "ax2.set_xticks([])\n",
    "plt.grid(True, axis='x')\n",
    "```"
   ]
  },
  {
   "cell_type": "markdown",
   "metadata": {},
   "source": [
    "<img src=\"picture/63.png\" width = \"35%\" />"
   ]
  },
  {
   "cell_type": "markdown",
   "metadata": {},
   "source": [
    "### 8.2 控制坐标轴的显示"
   ]
  },
  {
   "cell_type": "markdown",
   "metadata": {},
   "source": [
    "```python\n",
    "import matplotlib.pyplot as plt\n",
    "import numpy as np\n",
    "\n",
    "# 准备数据\n",
    "x=np.linspace(-2*np.pi, 2*np.pi, 100)\n",
    "y=np.sin(x)\n",
    "\n",
    "# 画布设置\n",
    "fig=plt.figure(figsize=(8, 8))\n",
    "\n",
    "# 去除坐标去除刻度\n",
    "ax1=plt.subplot(221)\n",
    "ax1.spines['right'].set_color('none')\n",
    "ax1.spines['top'].set_color('none')\n",
    "plt.scatter(x, y, marker='+', color='b')\n",
    "plt.title(r'$(a)$')\n",
    "\n",
    "# 去除坐标轴但保留刻度\n",
    "ax2=plt.subplot(222)\n",
    "ax2.spines['right'].set_color('none')\n",
    "ax2.spines['top'].set_color('none')\n",
    "ax2.xaxis.set_ticks_position('top')\n",
    "ax2.yaxis.set_ticks_position('right')\n",
    "plt.scatter(x, y, marker='+', color='c')\n",
    "plt.title('$(b)$')\n",
    "\n",
    "# 改变坐标轴颜色\n",
    "ax3=plt.subplot(223)\n",
    "ax3.spines['left'].set_color('r')\n",
    "ax3.spines['bottom'].set_color('r')\n",
    "plt.scatter(x, y, marker='+', color='b')\n",
    "plt.title(r'$(c)$')\n",
    "\n",
    "# 改变坐标轴及标签颜色\n",
    "ax4=plt.subplot(224)\n",
    "ax4.spines['left'].set_color('r')\n",
    "ax4.spines['bottom'].set_color('r')\n",
    "ax4.tick_params('x', colors='r')\n",
    "ax4.tick_params('y', colors='r')\n",
    "plt.scatter(x, y, marker='+', color='b')\n",
    "plt.title(r'$(d)$')\n",
    "```"
   ]
  },
  {
   "cell_type": "markdown",
   "metadata": {},
   "source": [
    "<img src=\"picture/64.png\" width = \"35%\" />"
   ]
  },
  {
   "cell_type": "markdown",
   "metadata": {},
   "source": [
    "### 8.3 控制坐标轴位置"
   ]
  },
  {
   "cell_type": "markdown",
   "metadata": {},
   "source": [
    "```python\n",
    "import matplotlib.pyplot as plt\n",
    "import numpy as np\n",
    "\n",
    "# 准备数据\n",
    "x=np.linspace(-2*np.pi, 2*np.pi, 1000)\n",
    "y=np.sin(x)\n",
    "y1=np.cos(x)\n",
    "\n",
    "# 画布设置\n",
    "fig=plt.figure(figsize=(8, 8))\n",
    "\n",
    "# 绘图及设置\n",
    "ax=plt.subplot(111)\n",
    "ax.plot(x, y, ls='--', lw=2, c='c', label=r'$y=\\sin(x)$')\n",
    "ax.plot(x, y1, ls='--', lw=2, c='b', label=r'$y1=\\cos(x)$')\n",
    "ax.legend(loc='lower left')\n",
    "\n",
    "# 更改坐标轴位置\n",
    "ax.spines['bottom'].set_position(('data', 0))\n",
    "ax.spines['left'].set_position(('data', 0))\n",
    "\n",
    "ax.spines['top'].set_color('none')\n",
    "ax.spines['right'].set_color('none')\n",
    "\n",
    "plt.show()\n",
    "```"
   ]
  },
  {
   "cell_type": "markdown",
   "metadata": {},
   "source": [
    "<img src=\"picture/65.png\" width = \"35%\" />"
   ]
  },
  {
   "cell_type": "markdown",
   "metadata": {},
   "source": [
    " "
   ]
  },
  {
   "cell_type": "markdown",
   "metadata": {},
   "source": [
    "## 附录：marker库"
   ]
  },
  {
   "cell_type": "markdown",
   "metadata": {},
   "source": [
    "<img src=\"picture/66.png\" width = \"100%\" />"
   ]
  },
  {
   "cell_type": "code",
   "execution_count": null,
   "metadata": {},
   "outputs": [],
   "source": []
  },
  {
   "cell_type": "code",
   "execution_count": null,
   "metadata": {},
   "outputs": [],
   "source": []
  },
  {
   "cell_type": "code",
   "execution_count": null,
   "metadata": {},
   "outputs": [],
   "source": []
  },
  {
   "cell_type": "code",
   "execution_count": null,
   "metadata": {},
   "outputs": [],
   "source": []
  },
  {
   "cell_type": "code",
   "execution_count": null,
   "metadata": {},
   "outputs": [],
   "source": []
  },
  {
   "cell_type": "code",
   "execution_count": null,
   "metadata": {},
   "outputs": [],
   "source": []
  },
  {
   "cell_type": "code",
   "execution_count": null,
   "metadata": {},
   "outputs": [],
   "source": []
  },
  {
   "cell_type": "code",
   "execution_count": null,
   "metadata": {},
   "outputs": [],
   "source": []
  },
  {
   "cell_type": "code",
   "execution_count": null,
   "metadata": {},
   "outputs": [],
   "source": []
  },
  {
   "cell_type": "code",
   "execution_count": null,
   "metadata": {},
   "outputs": [],
   "source": []
  },
  {
   "cell_type": "code",
   "execution_count": null,
   "metadata": {},
   "outputs": [],
   "source": []
  },
  {
   "cell_type": "code",
   "execution_count": null,
   "metadata": {},
   "outputs": [],
   "source": []
  },
  {
   "cell_type": "code",
   "execution_count": null,
   "metadata": {},
   "outputs": [],
   "source": []
  },
  {
   "cell_type": "code",
   "execution_count": null,
   "metadata": {},
   "outputs": [],
   "source": []
  }
 ],
 "metadata": {
  "kernelspec": {
   "display_name": "Python 3",
   "language": "python",
   "name": "python3"
  },
  "language_info": {
   "codemirror_mode": {
    "name": "ipython",
    "version": 3
   },
   "file_extension": ".py",
   "mimetype": "text/x-python",
   "name": "python",
   "nbconvert_exporter": "python",
   "pygments_lexer": "ipython3",
   "version": "3.8.3"
  }
 },
 "nbformat": 4,
 "nbformat_minor": 4
}
